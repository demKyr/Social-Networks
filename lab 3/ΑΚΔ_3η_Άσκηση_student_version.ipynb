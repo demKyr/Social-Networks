{
 "cells": [
  {
   "cell_type": "markdown",
   "id": "1f35580e",
   "metadata": {},
   "source": [
    "<html><font size=6><B>3η εργαστηριακή άσκηση</B><BR>\n",
    "    <BR><B>Link prediction - Πρόβλεψη συνδέσμων</B></BR>\n",
    "    </font></html>"
   ]
  },
  {
   "cell_type": "code",
   "execution_count": 1,
   "id": "e65153ad",
   "metadata": {},
   "outputs": [],
   "source": [
    "import matplotlib\n",
    "import networkx as nx\n",
    "import random\n",
    "import matplotlib.pyplot as plt\n",
    "import numpy as np\n",
    "import scipy as sp\n",
    "import itertools\n",
    "import pandas as pd\n",
    "from sklearn.metrics import accuracy_score\n",
    "from sklearn.metrics import recall_score\n",
    "from sklearn.metrics import precision_score"
   ]
  },
  {
   "cell_type": "markdown",
   "id": "b30af479",
   "metadata": {},
   "source": [
    "<html><font size=4><B>1. Κατασκευή γράφου και προεργασία για την πρόβλεψη συνδέσμων</B></font>\n",
    "    <li><B>1(i).</B> Χρησιμοποιήστε το dataset <a href=\"http://konect.cc/networks/dbpedia-similar/\"> Similarities (DBpedia)</a>, για να κατασκευάσετε τον μη κατευθυνόμενο (undirected) γράφο $G$ <a href=\"https://dl.acm.org/doi/10.1145/2487788.2488173\">[1]</a>,<a href=\"https://link.springer.com/chapter/10.1007/978-3-540-76298-0_52\">[2]</a>. Οι κόμβοι του γράφου αναπαριστούν σελίδες της Wikipedia και οι ακμές σχέση ομοιότητας μεταξύ τους. Στην σελίδα <a href=\"http://konect.cc/networks/dbpedia-similar/\"> KONECT (DBpedia)</a> μπορείτε να βρείτε πληροφορίες για τις ιδιότητες του γράφου.</a><BR>\n",
    "        <B><U>Υπόδειξη:</U></B> Μπορείτε να ελέγξετε προγραμματιστικά αν το dataset περιέχει διπλότυπα των ακμών με την ίδια ή αντίστροφη σειρά (π.χ. ακμές (a,b) και (b,a)), και να λάβετε υπ' όψιν σας αυτήν σας την παρατήρηση, όπου τυχόν χρειαστεί, στην ερώτηση 2.<BR></html>"
   ]
  },
  {
   "cell_type": "code",
   "execution_count": 2,
   "id": "3c513cfc",
   "metadata": {},
   "outputs": [],
   "source": [
    "same_edges = 0\n",
    "same_edges_reversed = 0\n",
    "self_edges = 0\n",
    "u_greater_v = 0\n",
    "initial_graph = nx.Graph()\n",
    "with open('graph_in.txt') as openfileobject:\n",
    "    for line in openfileobject:\n",
    "        args = line.split(' ')\n",
    "        u = int(args[0])-1\n",
    "        v = int(args[1])-1\n",
    "        same_edges += initial_graph.has_edge(u,v)\n",
    "        same_edges_reversed += initial_graph.has_edge(v,u)\n",
    "        self_edges += u == v\n",
    "        u_greater_v += u>v\n",
    "        initial_graph.add_edge(u,v)"
   ]
  },
  {
   "cell_type": "code",
   "execution_count": 3,
   "id": "05659cb5",
   "metadata": {},
   "outputs": [
    {
     "name": "stdout",
     "output_type": "stream",
     "text": [
      "Graph with 430 nodes and 565 edges\n",
      "0\n",
      "0\n",
      "1\n",
      "0\n"
     ]
    }
   ],
   "source": [
    "print(initial_graph)\n",
    "print(same_edges)\n",
    "print(same_edges_reversed)\n",
    "print(self_edges)\n",
    "print(u_greater_v)"
   ]
  },
  {
   "cell_type": "markdown",
   "id": "4bd79bac",
   "metadata": {},
   "source": [
    " <li><B>1(ii).</B> Εμφανίστε τον αριθμό των κόμβων, τον αριθμό των ακμών, τον μέσο βαθμό των κόμβων και τον αριθμό των συνεκτικών συνιστωσών (connected components) για τον γράφο $G$.</li><BR>"
   ]
  },
  {
   "cell_type": "code",
   "execution_count": 4,
   "id": "9277a4e2",
   "metadata": {
    "tags": []
   },
   "outputs": [
    {
     "name": "stdout",
     "output_type": "stream",
     "text": [
      "initial number of nodes: 430\n",
      "initial number of edges: 565\n",
      "initial average degree of nodes: 0.0061256572884480125\n",
      "initial number of connected components: 95\n"
     ]
    }
   ],
   "source": [
    "initial_node_count = initial_graph.number_of_nodes()\n",
    "initial_edge_count = initial_graph.number_of_edges()\n",
    "initial_degree_avg = sum(nx.degree_centrality(initial_graph).values()) / initial_node_count\n",
    "initial_connected_components = len(sorted(nx.connected_components(initial_graph), key=len, reverse=True))\n",
    "\n",
    "print(\"initial number of nodes:\",initial_node_count)\n",
    "print(\"initial number of edges:\",initial_edge_count)\n",
    "print(\"initial average degree of nodes:\",initial_degree_avg)\n",
    "print(\"initial number of connected components:\",initial_connected_components)"
   ]
  },
  {
   "cell_type": "markdown",
   "id": "bf03f6b9",
   "metadata": {},
   "source": [
    "<li><B>1(iii). </B>Υπολογίστε το σύνολο των ασύνδετων ζευγών κόμβων (unconnected pairs) στον γράφο χρησιμοποιώντας τον πίνακα γειτνίασης (adjacency matrix). Δώστε επίσης τον αριθμό τους. Λάβετε υπ' όψιν σας ότι ο γράφος είναι μη κατευθυνόμενος και δεν χρειάζεται να διατρέξετε ολόκληρο τον πίνακα γειτνίασης.</li><BR>"
   ]
  },
  {
   "cell_type": "code",
   "execution_count": 5,
   "id": "b5a856e9-07ab-40c2-bf44-8bceff7ed82b",
   "metadata": {},
   "outputs": [
    {
     "name": "stdout",
     "output_type": "stream",
     "text": [
      "91671\n"
     ]
    }
   ],
   "source": [
    "unconnected_pairs = []\n",
    "\n",
    "for i in range (initial_node_count):\n",
    "    for j in range (i+1,initial_node_count):\n",
    "        if((i, j) not in initial_graph.edges()):\n",
    "            unconnected_pairs.append((i, j))\n",
    "\n",
    "print(len(unconnected_pairs))\n"
   ]
  },
  {
   "cell_type": "markdown",
   "id": "ad3fb3b1",
   "metadata": {},
   "source": [
    "*Παρατήρηση<br><br>\n",
    "Η υλοποίηση έγινε αρχικά χρησιμοποιώντας τον πίνακα γειτνίασης και συγκεκριμένα το μέρος που βρίσκεται πάνω από την κύρια διαγώνιο όμως εντοπίστηκαν σφάλματα στις τιμές που περιείχε γι' αυτό έγινε νέα υλοποίηση με τον πιο πάνω τρόπο*"
   ]
  },
  {
   "cell_type": "markdown",
   "id": "154c2a8d",
   "metadata": {},
   "source": [
    "<li><B>1(iv).</B> Υπολογίστε το σύνολο των ακμών (removable edges) που μπορούν να αφαιρεθούν από τον γράφο χωρίς να υπάρχει κατάτμηση (splitting) του γράφου (δηλ. ο αριθμός των συνεκτικών συνιστωσών θα πρέπει να παραμένει αμετάβλητος). Υπόδειξη: Ελέγχετε επίσης ότι με αφαίρεση ακμής δεν μειώνεται ο αριθμός των κόμβων (εφόσον δεν υπάρχει ξεχωριστό αρχείο μόνο με κόμβους στο dataset). Δώστε επίσης τον αριθμό των ακμών (removable edges) που μπορούν να αφαιρεθούν υπό αυτές τις προϋποθέσεις.</li><BR>"
   ]
  },
  {
   "cell_type": "code",
   "execution_count": 6,
   "id": "b39c2241",
   "metadata": {},
   "outputs": [
    {
     "name": "stdout",
     "output_type": "stream",
     "text": [
      "229\n"
     ]
    }
   ],
   "source": [
    "removable_edges = []\n",
    "temp_graph = initial_graph.copy()\n",
    "for e in initial_graph.edges:\n",
    "    temp_graph.remove_edge(*e)\n",
    "    if (len(sorted(nx.connected_components(temp_graph), key=len, reverse=True)) == initial_connected_components) and ( temp_graph.number_of_nodes() == initial_node_count) and (e[0]!=e[1]):\n",
    "        (u,v) = e\n",
    "        removable_edges.append((min(u,v),max(u,v))) \n",
    "    else:\n",
    "        temp_graph.add_edge(*e)\n",
    "print(len(removable_edges))"
   ]
  },
  {
   "cell_type": "markdown",
   "id": "df54c715",
   "metadata": {},
   "source": [
    "Παρατηρήσεις<br>\n",
    "* Η τοποθέτηση των ακμών στο σύνολο removable_edges ξεκίνησε από την πρώτη ακμή προς την τελευταία\n",
    "* Η μία self edge του γράφου δεν προστέθηκε στο σύνολο removable_edges για να μην προκύψουν ασάφειες στα επόμενα ερωτήματα"
   ]
  },
  {
   "cell_type": "markdown",
   "id": "eb03d745",
   "metadata": {},
   "source": [
    "<li><B>1(vα).</B> Κατασκευάστε dataframe που συνενώνει τις απαντήσεις των ερωτημάτων 1(iii) και 1(iv) (unconnected+removables). Χρησιμοποιήστε την μεταβλητή $link$ που θα παίρνει τιμή 1 ή 0 ανάλογα με την ύπαρξη συνδέσμου ή μη. To dataframe αυτό συγκεντρώνει τα θετικά και αρνητικά δείγματα για την πρόβλεψη των μελλοντικών συνδέσεων (link: target variable). <BR>\n",
    "    <li><B>1(vβ).</B> Κατασκευάστε τον γράφο $G'$ που προκύπτει από την αφαίρεση από τον γράφο $G$ των ακμών του ερωτήματος 1(iv). <BR>\n",
    "    <li><B>1(vγ).</B> Εμφανίστε τον αριθμό των κόμβων, τον αριθμό των ακμών, τον μέσο βαθμό των κόμβων και τον αριθμό των συνεκτικών συνιστωσών (connected components) για τον γράφο $G'$.</li><BR>"
   ]
  },
  {
   "cell_type": "code",
   "execution_count": 7,
   "id": "cb033fc0",
   "metadata": {},
   "outputs": [
    {
     "name": "stdout",
     "output_type": "stream",
     "text": [
      "91900\n",
      "         u    v  link\n",
      "0        0    1   1.0\n",
      "1        0    2   1.0\n",
      "2        0    3   1.0\n",
      "3        0    5   0.0\n",
      "4        0    6   0.0\n",
      "...    ...  ...   ...\n",
      "91895  425  429   0.0\n",
      "91896  426  427   0.0\n",
      "91897  426  428   0.0\n",
      "91898  426  429   0.0\n",
      "91899  428  429   0.0\n",
      "\n",
      "[91900 rows x 3 columns]\n"
     ]
    }
   ],
   "source": [
    "df_edges = unconnected_pairs + removable_edges\n",
    "df_links = list(np.zeros(len(unconnected_pairs)))+list(np.ones(len(removable_edges)))\n",
    "df_edges, df_links = zip(*sorted(zip(df_edges, df_links)))\n",
    "u, v = zip(*df_edges)\n",
    "df = pd.DataFrame({'u': u, 'v': v, 'link': df_links})\n",
    "print(len(df))\n",
    "print(df)\n",
    "\n",
    "\n",
    "\n",
    "# #build graph G'=G_reduced\n",
    "G_reduced = initial_graph.copy()\n",
    "G_reduced.remove_edges_from(removable_edges)"
   ]
  },
  {
   "cell_type": "code",
   "execution_count": 8,
   "id": "b40a43f2",
   "metadata": {},
   "outputs": [
    {
     "name": "stdout",
     "output_type": "stream",
     "text": [
      "reduced graph's number of nodes: 430\n",
      "reduced graph's number of edges: 336\n",
      "reduced graph's average degree of nodes: 0.0036428687591478492\n",
      "reduced graph's number of connected components: 95\n"
     ]
    }
   ],
   "source": [
    "reduced_node_count = G_reduced.number_of_nodes()\n",
    "reduced_edge_count = G_reduced.number_of_edges()\n",
    "reduced_degree_avg = sum(nx.degree_centrality(G_reduced).values()) / reduced_node_count\n",
    "reduced_connected_components = len(sorted(nx.connected_components(G_reduced), key=len, reverse=True))\n",
    "\n",
    "print(\"reduced graph's number of nodes:\",reduced_node_count)\n",
    "print(\"reduced graph's number of edges:\",reduced_edge_count)\n",
    "print(\"reduced graph's average degree of nodes:\",reduced_degree_avg)\n",
    "print(\"reduced graph's number of connected components:\",reduced_connected_components)"
   ]
  },
  {
   "cell_type": "markdown",
   "id": "184eae57",
   "metadata": {},
   "source": [
    "<html><font size=4><B>2. Εισαγωγή σε similarity-based μετρικές για Link prediction</B></font><BR><BR>\n",
    "     <li> Η μετρική <B>Jaccard Coefficient (JC)</B> των κόμβων ${u}$ και ${v}$ ορίζεται ως $\\frac{|\\Gamma(u) \\cap \\Gamma(v)|}{|\\Gamma(u) \\cup \\Gamma(v)|}$, όπου ${\\Gamma(u)}$ είναι το σύνολο των γειτονικών κόμβων του κόμβου ${u}$.  <B></B>\n",
    "        <li> Η μετρική <B>Preferential Αttachment (PA)</B> των κόμβων $u$ και $v$ ορίζεται ως $|\\Gamma(u)| |\\Gamma(v)|$, όπου $\\Gamma(u)$ είναι το σύνολο των γειτονικών κόμβων του $u$.</li>\n",
    "        <li> Η μετρική <B>Resource Allocation (RA)</B> των κόμβων $u$ και $v$ ορίζεται ως $\\sum_{w \\in \\Gamma(u) \\cap \\Gamma(v)} \\frac{1}{|\\Gamma(w)|}$, όπου $\\Gamma(u)$ είναι το σύνολο των γειτονικών κόμβων του $u$.</li><BR><BR>\n",
    "    <li><B>2(i).</B> Για τον γράφο $G'$, που κατασκευάσατε στο ερώτημα 1(vβ), υπολογίστε την μετρική <B>Jaccard Coefficient (JC)</B>.  <u><a href=\"https://networkx.org/documentation/stable/reference/algorithms/link_prediction.html?highlight=link%20prediction\">Χρησιμοποιήστε την υλοποιημένη συνάρτηση του λογισμικού NetworkX.<a></u> <BR><BR>\n",
    "    <li><B>2(ii). </B>Δώστε τις $k$ ακμές με την υψηλότερη τιμή μετρικής $JC$, όπου $k$ ο $Α.Μ.$ σας $mod$ $10$. Για $Α.Μ.$ λήγοντα σε $0$ δώστε τις $10$ ακμές με την υψηλότερη τιμή μετρικής.\n",
    "        (Για την σύγκριση μεταξύ διαφορετικών μετρικών προτιμάται η εύρεση των $k$ επικρατέστερων συνδέσμων, αφού οι μετρικές επιστρέφουν διαφορετικό εύρος τιμών.)</li><BR>\n",
    "    <li><B>2(iii). </B>Προσδιορίστε για την μέτρηση της απόδοσης της μετρικής $JC$ τα μεγέθη $Precision$, $Recall$ και $Accuracy$ και αναπαραστήστε τα γραφικά για τιμές κατωφλίου: $0.1$, $0.15$, $0.25$, $0.5$, $1.0$.  <BR><BR>\n",
    "    $Precision=\\frac{TP}{TP+FP}$, όπου $TP$: αληθώς θετικά αποτελέσματα, $FP$: ψευδώς θετικά αποτελέσματα <BR>\n",
    "    $Recall=\\frac{TP}{TP+FN}$, όπου $TP$: αληθώς θετικά αποτελέσματα, $FN$: ψευδώς αρνητικά αποτελέσματα</li> \n",
    "    $Accuracy=\\frac{TP+TN}{TP+FN+TN+FP}$, όπου $TP$: αληθώς θετικά αποτελέσματα, $TN$: αληθώς αρνητικά αποτελέσματα, $FN$: ψευδώς αρνητικά αποτελέσματα, $FP$: ψευδώς θετικά αποτελέσματα</li><BR><BR>\n",
    "        <B><U>Υπόδειξη:</U></B>\n",
    "        Θετικό θεωρήστε ένα αποτέλεσμα, αν η μετρική $JC$ υπερβαίνει μια τιμή κατωφλίου (>=). Αρνητικό θεωρήστε το στην αντίθετη περίπτωση.\n",
    "        <li>Αληθώς θετικά είναι τα αποτελέσματα που βγήκαν θετικά (η τιμή της $JC$ υπερβαίνει την τιμή κατωφλίου) και πράγματι θα υπάρξουν οι συνδέσεις που περιγράφουν (ερ. 1(iv)).</li>\n",
    "        <li>Αληθώς αρνητικά είναι τα αποτελέσματα που βγήκαν αρνητικά και πράγματι δεν θα υπάρξουν οι συνδέσεις που περιγράφουν (ερ. 1(iii)).</li>\n",
    "        <li>Ψευδώς θετικά είναι τα αποτελέσματα που βγήκαν θετικά, ενώ δεν θα υπάρξουν οι συνδέσεις που περιγράφουν.</li>\n",
    "        <li>Ψευδώς αρνητικά είναι τα αποτελέσματα που βγήκαν αρνητικά, ενώ θα υπάρξουν οι συνδέσεις που περιγράφουν.</li>\n",
    "        <li>Το άθροισμα $TN+FP$ πρέπει κάθε φορά να σας δίνει όλες τις ασύνδετες ακμές του γράφου $G$.</li>   \n",
    "<li>Από το ερώτημα 1(iii) οι ακμές που υπολογίσατε είναι αυτές για τις οποίες δεν θα υπάρξουν συνδέσεις.</li> <li>Από το ερώτημα 1(iv) οι ακμές που υπολογίσατε είναι αυτές για τις οποίες θα υπάρξουν συνδέσεις.</li><BR></html>"
   ]
  },
  {
   "cell_type": "code",
   "execution_count": 9,
   "id": "20562bb4",
   "metadata": {},
   "outputs": [
    {
     "name": "stdout",
     "output_type": "stream",
     "text": [
      "91900\n",
      "(3, 45) 1.0\n"
     ]
    }
   ],
   "source": [
    "jaccard_preds = list(nx.algorithms.link_prediction.jaccard_coefficient(G_reduced))\n",
    "print(len(jaccard_preds))\n",
    "max_p = 0\n",
    "max_edge = (0,0)\n",
    "for u, v, p in jaccard_preds:\n",
    "    if p > max_p:\n",
    "        max_p = p\n",
    "        max_edge = (u,v)\n",
    "print(max_edge, max_p)\n"
   ]
  },
  {
   "cell_type": "markdown",
   "id": "03448d71",
   "metadata": {},
   "source": [
    "Παρατήρηση<br><br>\n",
    "Ο Α.Μ. είναι 03117601 επομένως πιο πάνω εμφανίζεται μόνο η ακμή με την υψηλότερη τιμή μετρικής"
   ]
  },
  {
   "cell_type": "code",
   "execution_count": 10,
   "id": "f4e7bbdb",
   "metadata": {},
   "outputs": [],
   "source": [
    "j_u = []\n",
    "j_v = []\n",
    "jaccard_ps = []\n",
    "for u, v, p in jaccard_preds:\n",
    "    j_u.append(u)\n",
    "    j_v.append(v)\n",
    "    jaccard_ps.append(p)\n",
    "\n",
    "j_u, j_v, jaccard_ps = zip(*sorted(zip(j_u, j_v, jaccard_ps)))\n",
    "jaccard_ps = np.array(jaccard_ps)"
   ]
  },
  {
   "cell_type": "code",
   "execution_count": 11,
   "id": "d8b0d5fd",
   "metadata": {},
   "outputs": [
    {
     "name": "stdout",
     "output_type": "stream",
     "text": [
      "(0.7074235807860262, 0.3207920792079208, 0.9955386289445048)\n",
      "(0.6899563318777293, 0.324435318275154, 0.9956474428726877)\n",
      "(0.6768558951965066, 0.34598214285714285, 0.996006528835691)\n",
      "(0.6026200873362445, 0.4169184290030212, 0.9969096844396083)\n",
      "(0.5502183406113537, 0.5101214574898786, 0.9975625680087051)\n"
     ]
    },
    {
     "data": {
      "text/plain": [
       "Text(0.5, 1.0, 'Accuracy')"
      ]
     },
     "execution_count": 11,
     "metadata": {},
     "output_type": "execute_result"
    },
    {
     "data": {
      "image/png": "[encoded data removed]",
      "text/plain": [
       "<Figure size 432x288 with 1 Axes>"
      ]
     },
     "metadata": {
      "needs_background": "light"
     },
     "output_type": "display_data"
    },
    {
     "data": {
      "image/png": "[encoded data removed]",
      "text/plain": [
       "<Figure size 432x288 with 1 Axes>"
      ]
     },
     "metadata": {
      "needs_background": "light"
     },
     "output_type": "display_data"
    },
    {
     "data": {
      "image/png": "[encoded data removed]",
      "text/plain": [
       "<Figure size 432x288 with 1 Axes>"
      ]
     },
     "metadata": {
      "needs_background": "light"
     },
     "output_type": "display_data"
    }
   ],
   "source": [
    "def JCfunction(threshold_jc):   #uncomment and complete\n",
    "    link_pred = np.where(jaccard_ps >= threshold_jc, 1, 0)\n",
    "    recall_jc = recall_score(df_links, link_pred)\n",
    "    precision_jc = precision_score(df_links, link_pred)\n",
    "    accuracy_jc = accuracy_score(df_links, link_pred)\n",
    "    return recall_jc, precision_jc, accuracy_jc; #uncomment and complete\n",
    "\n",
    "k = 1   # 03117601\n",
    "recs = []\n",
    "pres = []\n",
    "accs = []\n",
    "thresholds = [0.1, 0.15, 0.25, 0.5, 1.0]\n",
    "for threshold in thresholds:\n",
    "    print(JCfunction(threshold))\n",
    "    rec, pre, acc = JCfunction(threshold)\n",
    "    recs.append(rec)\n",
    "    pres.append(pre)\n",
    "    accs.append(acc)\n",
    "plt.figure(1)\n",
    "plt.plot(thresholds,recs)\n",
    "plt.title('Recall')\n",
    "plt.figure(2)\n",
    "plt.plot(thresholds,pres)\n",
    "plt.title('Precision')\n",
    "plt.figure(3)\n",
    "plt.plot(thresholds,accs)\n",
    "plt.title('Accuracy')\n"
   ]
  },
  {
   "cell_type": "markdown",
   "id": "d432396f",
   "metadata": {},
   "source": [
    "<html><font size=4><B>3. Πρόβλεψη συνδέσμων βάσει similarity-based μετρικών</B></font>    \n",
    "        <li><B>3(i).</B> Προτείνετε μια τουλάχιστον μέθοδο, για να εξερευνήσουμε και να εκφράσουμε μέσα από τα πακέτα NumPy ή SciPy ή Pandas την συσχέτιση (correlation) μεταξύ των τιμών των μετρικών <B>Jaccard Coefficient</B>, <B>Preferential Attachment</B>, <B>Resource Allocation</B> για τον μειωμένο γράφο $G'$. Σημ.: Δεν χρειάζεται κάποια υλοποίηση, μόνο αναφορά της μεθόδου συσχέτισης και επεξήγηση της επιλογής σας.\n",
    "     <li><B>3(ii).</B> Εργαστείτε πάνω σε <B><U>αντίγραφο</U></B> του dataframe που κατασκευάσατε στο ερώτημα 1(vα) (unconnected+removables). Δημιουργήστε στήλη (column) με τις ακμές του γράφου και θέστε την ως index του dataframe. Στο dataframe θα προσθέσετε ως στήλες τις τιμές των μετρικών (<B>Jaccard Coefficient</B>, <B>Preferential Attachment</B>, <B>Resource Allocation</B>) για τον μειωμένο γράφο $G'$. Οι τιμές των μετρικών μπορούν να υπολογιστούν με τις συναρτήσεις του πακέτου NetworkX.</li>   </font></html>\n",
    "    \n",
    "    |       | link  |Jacc.Coeff.|Pr.Attachment| Resource Allocation|\n",
    "    |-------|-------|-----------|-------------|--------------------|\n",
    "    |(1, 6) |  0    |  0.333333 |     32      |    0.700000        |\n",
    "    |(1, 46)|  0    |  0.200000 |      8      |    0.166667        |"
   ]
  },
  {
   "cell_type": "code",
   "execution_count": 12,
   "id": "7c40c8d6",
   "metadata": {},
   "outputs": [],
   "source": [
    "#replicate of the dataframe \"unconnected+removables\"---dataframe will be used again in (4)\n",
    "df_copy = df.copy()"
   ]
  },
  {
   "cell_type": "code",
   "execution_count": 13,
   "id": "8c65a3e6",
   "metadata": {},
   "outputs": [
    {
     "name": "stdout",
     "output_type": "stream",
     "text": [
      "         u    v  link  JaccCoeff  PrAttachment  ResAllocation\n",
      "0        0    1   1.0        0.0             1            0.0\n",
      "1        0    2   1.0        0.0             2            0.0\n",
      "2        0    3   1.0        0.0             1            0.0\n",
      "3        0    5   0.0        0.0             7            0.0\n",
      "4        0    6   0.0        0.0             1            0.0\n",
      "...    ...  ...   ...        ...           ...            ...\n",
      "91895  425  429   0.0        0.0             1            0.0\n",
      "91896  426  427   0.0        0.0             2            0.0\n",
      "91897  426  428   0.0        0.0             1            0.0\n",
      "91898  426  429   0.0        0.0             1            0.0\n",
      "91899  428  429   0.0        1.0             1            0.5\n",
      "\n",
      "[91900 rows x 6 columns]\n"
     ]
    }
   ],
   "source": [
    "#dataframe for similarity-based measurement values\n",
    "#Jaccard Coefficient\n",
    "df_copy = df_copy.assign(JaccCoeff=jaccard_ps)\n",
    "\n",
    "#Preferential Attachment\n",
    "pa_preds = list(nx.algorithms.link_prediction.preferential_attachment(G_reduced))\n",
    "pa_edges = []\n",
    "pa_ps = []\n",
    "for u, v, p in pa_preds:\n",
    "    pa_edges.append((u, v))\n",
    "    pa_ps.append(p)\n",
    "pa_edges, pa_ps = zip(*sorted(zip(pa_edges, pa_ps)))\n",
    "df_copy = df_copy.assign(PrAttachment=pa_ps)\n",
    "\n",
    "#Resource Allocation\n",
    "ra_preds = list(nx.algorithms.link_prediction.resource_allocation_index(G_reduced))\n",
    "ra_edges = []\n",
    "ra_ps = []\n",
    "for u, v, p in ra_preds:\n",
    "    ra_edges.append((u, v))\n",
    "    ra_ps.append(p)\n",
    "ra_edges, ra_ps = zip(*sorted(zip(ra_edges, ra_ps)))\n",
    "df_copy = df_copy.assign(ResAllocation=ra_ps)\n",
    "\n",
    "\n",
    "print(df_copy)"
   ]
  },
  {
   "cell_type": "markdown",
   "id": "76f9318d",
   "metadata": {},
   "source": [
    "<li><B>3(iiiα).</B> Χρησιμοποιήστε τον Random Forest Classifier και το αντίγραφο dataframe που κατασκευάσατε στο ερώτημα 3(ii), για να προβλέψετε συνδέσεις. Συμπληρώστε στον κώδικα: τα features ($X$), την target variable ($y$) και τα ορίσματα της συνάρτησης $fit$ για το training του μοντέλου.</li>\n",
    "<li><B>3(iiiβ).</B> Δώστε τις ($A.M$ $mod$ $10$) πρώτες προβλέψεις και την ακρίβεια ($accuracy$) του μοντέλου. </li>\n",
    "<li><B>3(iiiγ).</B>Υπολογίστε την πιθανότητα να συνδεθούν οι κόμβοι ($1$,$47$) βάσει του μοντέλου σας. </li>  "
   ]
  },
  {
   "cell_type": "code",
   "execution_count": 14,
   "id": "df4a65f5",
   "metadata": {},
   "outputs": [],
   "source": [
    "# uncomment whole cell\n",
    "from sklearn.model_selection import train_test_split\n",
    "from sklearn.ensemble import RandomForestClassifier\n",
    "from sklearn.metrics import accuracy_score\n",
    "from sklearn.model_selection import GridSearchCV\n",
    "# X =             #features, uncomment and complete\n",
    "# y = ...['link']  # target, uncomment and complete\n",
    "x = df_copy.loc[:, df_copy.columns != 'link']\n",
    "y = df_copy['link']  # target, uncomment and complete\n",
    "# print(x)\n",
    "# print(y)\n",
    "\n",
    "X_train, X_test, y_train, y_test = train_test_split(x, y, random_state = 0) #uncomment and complete"
   ]
  },
  {
   "cell_type": "code",
   "execution_count": 15,
   "id": "26affc3a",
   "metadata": {},
   "outputs": [],
   "source": [
    "# uncomment whole cell\n",
    "classifier = RandomForestClassifier()   \n",
    "\n",
    "from sklearn.preprocessing import MinMaxScaler \n",
    "mm_scaler = MinMaxScaler() \n",
    "X_train_scaled = mm_scaler.fit_transform(X_train)\n",
    "X_test_scaled = mm_scaler.transform(X_test)\n",
    "\n",
    "parameters = {'n_estimators' : [10,50,100], 'max_depth' : [5,10,15]} \n",
    "model = GridSearchCV(classifier, param_grid = parameters) "
   ]
  },
  {
   "cell_type": "code",
   "execution_count": 16,
   "id": "431e2d35",
   "metadata": {},
   "outputs": [
    {
     "data": {
      "text/plain": [
       "GridSearchCV(estimator=RandomForestClassifier(),\n",
       "             param_grid={'max_depth': [5, 10, 15],\n",
       "                         'n_estimators': [10, 50, 100]})"
      ]
     },
     "execution_count": 16,
     "metadata": {},
     "output_type": "execute_result"
    }
   ],
   "source": [
    "model.fit(X_train_scaled, y_train)#train the model, uncomment and complete"
   ]
  },
  {
   "cell_type": "code",
   "execution_count": 17,
   "id": "1b075584",
   "metadata": {},
   "outputs": [
    {
     "name": "stdout",
     "output_type": "stream",
     "text": [
      "0.0\n"
     ]
    }
   ],
   "source": [
    "predictions = model.predict(X_test_scaled)       #uncomment\n",
    "print(predictions[0]) #get (1 - A.M. last digit) first predictions, uncomment and complete"
   ]
  },
  {
   "cell_type": "code",
   "execution_count": 18,
   "id": "1fd92687",
   "metadata": {},
   "outputs": [
    {
     "name": "stdout",
     "output_type": "stream",
     "text": [
      "Empty DataFrame\n",
      "Columns: [u, v, JaccCoeff, PrAttachment, ResAllocation]\n",
      "Index: []\n",
      "    u   v  JaccCoeff  PrAttachment  ResAllocation\n",
      "44  0  46        0.0             1            0.0\n"
     ]
    }
   ],
   "source": [
    "print(X_test.loc[(X_test['u'] == 1-1) & (X_test['v'] == 47-1)])\n",
    "print(X_train.loc[(X_train['u'] == 1-1) & (X_train['v'] == 47-1)])\n"
   ]
  },
  {
   "cell_type": "code",
   "execution_count": 19,
   "id": "b042eca7",
   "metadata": {},
   "outputs": [
    {
     "name": "stdout",
     "output_type": "stream",
     "text": [
      "[9.99996149e-01 3.85133834e-06]\n",
      "    u   v  link  JaccCoeff  PrAttachment  ResAllocation\n",
      "44  0  46   0.0        0.0             1            0.0\n",
      "None\n"
     ]
    }
   ],
   "source": [
    "predict_proba = model.predict_proba(X_train_scaled)  # uncomment and complete\n",
    "print(predict_proba[44])\n",
    "print(print(df_copy.loc[(df_copy['u'] == 1-1) & (df_copy['v'] == 47-1)]))\n"
   ]
  },
  {
   "cell_type": "markdown",
   "id": "bdada27b",
   "metadata": {},
   "source": [
    "Παρατηρήσεις\n",
    "* Η ακμή 1-47 είναι στο πιο πάνω df η ακμή 0-46 λόγω της αφαίρεσης μίας μονάδας από κάθε κόμβο στο πρώτο βήμα της άσκησης ώστε να ξεκινά η αρίθμηση από τον κόμβο 0\n",
    "* Αυτή η ακμή εντοπίστηκε στο test set με index = 44 για τον διαχωρισμό με random_state = 0\n",
    "* Η συνάρτηση predict_proba δίνει μεγάλη πιθανότητα να ανήκει η ακμή στην πρώτη κατηγορία, δλδ να μην υπάρχει. Όπως φαίνεται πιο πάνω η τιμή link για την ακμή είναι 0 επομένως στην πραγματικότητα όντως δεν υπάρχει η ακμή"
   ]
  },
  {
   "cell_type": "markdown",
   "id": "f4c43988",
   "metadata": {},
   "source": [
    "<html><font size=4><B>4. Πρόβλεψη συνδέσμων με embedding βασισμένο σε τυχαίους περιπάτους (Random Walks) </B></font><BR><BR>\n",
    "    <li><B>4(i).</B> Εξάγετε τα χαρακτηριστικά (features) του γράφου $G'$, που προέκυψε από την αφαίρεση των ακμών. Για τον σκοπό αυτό χρησιμοποιήστε τον αλγόριθμο <B>Node2vec</B> <a href=\"https://cs.stanford.edu/~jure/pubs/node2vec-kdd16.pdf\">[3]</a>. Ο αλγόριθμος αντιστοιχίζει τους κόμβους του γράφου μέσω τυχαίων περιπάτων (biased 2nd order random walks) σε ένα χώρο μικρού αριθμού διαστάσεων (low dimensional space) διατηρώντας την μεταξύ τους γειτνίαση.\n",
    "        <BR>Για την επιλογή των παραμέτρων: \n",
    "            <li>p - παράμετρος τυχαίων περιπάτων p που καθορίζει την πιθανότητα “1/p” επιστροφής στον κόμβο προέλευσης (source node), </li>\n",
    "                <li>q - παράμετρος τυχαίων περιπάτων q που καθορίζει την πιθανότητα  “1/q” μετακίνησης σε κόμβο μακριά από τον κόμβο προέλευσης (source node), </li>\n",
    "                 <li>dimensions - πλήθος διαστάσεων των Node2Vec embeddings, </li>\n",
    "                     <li>num_walks - αριθμός περιπάτων από κάθε κόμβο, </li>\n",
    "                         <li>walk_length - μήκος τυχαίου περιπάτου, </li>\n",
    "                             <li>window_size - μέγεθος παραθύρου context για τον αλγόριθμο Word2Vec, </li><li>num_iter - αριθμός SGD επαναλήψεων (epochs), </li>\n",
    "            <li>workers - αριθμός workers για τον Word2Vec,</li>\n",
    "            χρησιμοποιήστε τις τιμές:   </html>\n",
    "   \n",
    "                   "
   ]
  },
  {
   "cell_type": "markdown",
   "id": "fdbc5274",
   "metadata": {},
   "source": [
    " |   p   |   q   | dimensions|  num_walks  |walk_length |window_size|        workers            |\n",
    " |-------|-------|-----------|-------------|------------|-----------|---------------------------|\n",
    " |  1.0  |  1.0  |  128      |     10      |    80      |     10    |multiprocessing.cpu_count()|"
   ]
  },
  {
   "cell_type": "code",
   "execution_count": 20,
   "id": "aa8e668d",
   "metadata": {},
   "outputs": [
    {
     "name": "stderr",
     "output_type": "stream",
     "text": [
      "Computing transition probabilities: 100%|██████████| 430/430 [00:00<00:00, 29674.40it/s]\n",
      "Generating walks (CPU: 3): 100%|██████████| 1/1 [00:00<00:00,  4.86it/s]\n",
      "Generating walks (CPU: 4): 100%|██████████| 1/1 [00:00<00:00,  4.87it/s]\n",
      "Generating walks (CPU: 5): 100%|██████████| 1/1 [00:00<00:00,  5.87it/s]\n",
      "Generating walks (CPU: 6): 100%|██████████| 1/1 [00:00<00:00,  6.14it/s]\n",
      "Generating walks (CPU: 2): 100%|██████████| 2/2 [00:00<00:00,  4.80it/s]\n",
      "Generating walks (CPU: 7): 100%|██████████| 1/1 [00:00<00:00,  4.76it/s]\n",
      "Generating walks (CPU: 1): 100%|██████████| 2/2 [00:00<00:00,  4.67it/s]\n",
      "Generating walks (CPU: 8): 100%|██████████| 1/1 [00:00<00:00,  4.66it/s]\n"
     ]
    }
   ],
   "source": [
    "#install node2vec with conda / pip\n",
    "from node2vec import Node2Vec   #uncomment\n",
    "import multiprocessing          #uncomment\n",
    "\n",
    "#generate walks\n",
    "# uncomment and complete\n",
    "node2vec_walker = Node2Vec(G_reduced, p=1.0, q=1.0, dimensions=128, num_walks=10, walk_length=80, workers=multiprocessing.cpu_count())\n",
    "\n",
    "#train node2vec model\n",
    "n2v_model = node2vec_walker.fit(window=10, min_count=1) #uncomment and complete"
   ]
  },
  {
   "cell_type": "markdown",
   "id": "294f0aab",
   "metadata": {},
   "source": [
    "<html><font>\n",
    "    <li><B>4(ii).</B> Εφαρμόστε τον αλγόριθμο Random Forest Classifier, για να προβλέψετε τις συνδέσεις.</li><BR>\n",
    "    <li><B>4(iii).</B> Υπολογίστε την ακρίβεια ($accuracy$) του μοντέλου. </li><BR></font></html>"
   ]
  },
  {
   "cell_type": "code",
   "execution_count": 24,
   "id": "6269b89a",
   "metadata": {},
   "outputs": [],
   "source": [
    "#apply trained Node2Vec model on each node pair of the dataframe \"unconnected+removables\"\n",
    "#uncomment:\n",
    "x = [(n2v_model.wv[str(i)]+n2v_model.wv[str(j)]) for i,j in zip(df['u'], df['v'])]"
   ]
  },
  {
   "cell_type": "code",
   "execution_count": 25,
   "id": "b74e7aa7",
   "metadata": {},
   "outputs": [],
   "source": [
    "X_train, X_test, y_train, y_test = train_test_split(x, y, random_state = 0)  #uncomment and complete"
   ]
  },
  {
   "cell_type": "code",
   "execution_count": 26,
   "id": "e75cfde7",
   "metadata": {},
   "outputs": [
    {
     "name": "stdout",
     "output_type": "stream",
     "text": [
      "Accuracy: 0.9987377584330794\n"
     ]
    }
   ],
   "source": [
    "#uncomment whole cell\n",
    "from sklearn.ensemble import RandomForestClassifier\n",
    "from sklearn.metrics import accuracy_score\n",
    "\n",
    "classifier = RandomForestClassifier(max_depth=2, random_state=0) \n",
    "classifier.fit(X_train,y_train)   #uncomment and complete\n",
    "\n",
    "y_pred=classifier.predict(X_test)\n",
    "print(\"Accuracy:\",accuracy_score(y_test, y_pred))"
   ]
  },
  {
   "cell_type": "markdown",
   "id": "a0c0b3bb",
   "metadata": {},
   "source": [
    "<html><font size=4> <B><U>Ερώτηση bonus (+10/100)</U><B>: </font>Για τους binary operators για learning των edge features με τον αλγόριθμο Node2Vec που αναφέρονται στο <a href=\"https://cs.stanford.edu/~jure/pubs/node2vec-kdd16.pdf\">[3]</a> ((α) Average, (β) Hadamard, (γ) Weighted-L1 και (δ) Weighted-L2) τροποποιήστε τoν κώδικά σας και σημειώστε τις παρατηρήσεις σας ως προς την απόδοση του αλγορίθμου.</font></html>"
   ]
  },
  {
   "cell_type": "markdown",
   "id": "8da3a402",
   "metadata": {},
   "source": [
    "<html><font size=4><B><U>Βιβλιογραφία:</U></B><BR></font>\n",
    "<a href=\"https://dl.acm.org/doi/10.1145/2487788.2488173\">[1]\tJérôme Kunegis. KONECT – The Koblenz Network Collection. In Proc. Int. Conf. on World Wide Web Companion, pages 1343–1350, 2013.</a><BR>\n",
    "<a href=\"https://link.springer.com/chapter/10.1007/978-3-540-76298-0_52\">[2]\tSören Auer, Christian Bizer, Georgi Kobilarov, Jens Lehmann, Richard Cyganiak, and Zachary Ives. DBpedia: A nucleus for a web of open data. In Proc. Int. Semant. Web Conf., pages 722–735, 2008.<BR>\n",
    "<a href=\"https://cs.stanford.edu/~jure/pubs/node2vec-kdd16.pdf\">[3] A. Grover, J. Leskovec, Node2vec: Scalable Feature Learning for Networks. ACM KDD, 2016.</a><BR>\n",
    " <a href=\"https://proceedings.neurips.cc/paper/2013/file/9aa42b31882ec039965f3c4923ce901b-Paper.pdf\">[4] T.Mikolov, I.Sutskever, K.Chen, G.S.Corrado and J.Dean, Distributed representations of words and phrases and their compositionality. In NIPS, 2013.</a><BR></font></html>"
   ]
  }
 ],
 "metadata": {
  "kernelspec": {
   "display_name": "Python 3 (ipykernel)",
   "language": "python",
   "name": "python3"
  },
  "language_info": {
   "codemirror_mode": {
    "name": "ipython",
    "version": 3
   },
   "file_extension": ".py",
   "mimetype": "text/x-python",
   "name": "python",
   "nbconvert_exporter": "python",
   "pygments_lexer": "ipython3",
   "version": "3.8.10"
  }
 },
 "nbformat": 4,
 "nbformat_minor": 5
}
